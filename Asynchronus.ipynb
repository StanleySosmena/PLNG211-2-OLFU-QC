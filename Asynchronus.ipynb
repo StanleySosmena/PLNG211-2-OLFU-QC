{
  "nbformat": 4,
  "nbformat_minor": 0,
  "metadata": {
    "colab": {
      "provenance": [],
      "authorship_tag": "ABX9TyPPvEWSaV1w45pTDezalpYk",
      "include_colab_link": true
    },
    "kernelspec": {
      "name": "python3",
      "display_name": "Python 3"
    },
    "language_info": {
      "name": "python"
    }
  },
  "cells": [
    {
      "cell_type": "markdown",
      "metadata": {
        "id": "view-in-github",
        "colab_type": "text"
      },
      "source": [
        "<a href=\"https://colab.research.google.com/github/StanleySosmena/PLNG211-2-OLFU-QC/blob/main/Asynchronus.ipynb\" target=\"_parent\"><img src=\"https://colab.research.google.com/assets/colab-badge.svg\" alt=\"Open In Colab\"/></a>"
      ]
    },
    {
      "cell_type": "code",
      "execution_count": 1,
      "metadata": {
        "id": "1cKwyMqnZnSU",
        "outputId": "ba8192f6-12ee-46a6-f527-075b9efb2861",
        "colab": {
          "base_uri": "https://localhost:8080/"
        }
      },
      "outputs": [
        {
          "output_type": "stream",
          "name": "stdout",
          "text": [
            "The salary is: 9000\n",
            "The tax is: 2700.0\n",
            "The Net pay is: 6300.0\n"
          ]
        }
      ],
      "source": [
        "Salary_rate = 600\n",
        "Salary = Salary_rate * 15\n",
        "Taxable_amount = Salary * 0.3\n",
        "Net_pay = Salary - Taxable_amount\n",
        "print(\"The salary is:\", Salary)\n",
        "print(\"The tax is:\",Taxable_amount)\n",
        "print(\"The Net pay is:\",Net_pay)"
      ]
    }
  ]
}