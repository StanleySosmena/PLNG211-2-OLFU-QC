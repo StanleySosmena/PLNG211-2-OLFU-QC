{
  "nbformat": 4,
  "nbformat_minor": 0,
  "metadata": {
    "colab": {
      "provenance": [],
      "authorship_tag": "ABX9TyPSB6RFa+6vjeGUO20DOV3O",
      "include_colab_link": true
    },
    "kernelspec": {
      "name": "python3",
      "display_name": "Python 3"
    },
    "language_info": {
      "name": "python"
    }
  },
  "cells": [
    {
      "cell_type": "markdown",
      "metadata": {
        "id": "view-in-github",
        "colab_type": "text"
      },
      "source": [
        "<a href=\"https://colab.research.google.com/github/StanleySosmena/PLNG211-2-OLFU-QC/blob/main/ARRAYS.ipynb\" target=\"_parent\"><img src=\"https://colab.research.google.com/assets/colab-badge.svg\" alt=\"Open In Colab\"/></a>"
      ]
    },
    {
      "cell_type": "code",
      "execution_count": 8,
      "metadata": {
        "colab": {
          "base_uri": "https://localhost:8080/"
        },
        "id": "eMr5-K8kRFR7",
        "outputId": "cbc851e1-2d4f-418d-c9eb-2e24d0b1a239"
      },
      "outputs": [
        {
          "output_type": "stream",
          "name": "stdout",
          "text": [
            "Green\n",
            "['Green', 'Black', 'White']\n",
            "this are the colors ['Green', 'Black', 'White']\n",
            "Green\n",
            "Black\n",
            "White\n"
          ]
        }
      ],
      "source": [
        "#Accessing the elements in the array\n",
        "color = [\"Green\",\"Black\",\"White\"]\n",
        "x = color [0]\n",
        "print(x)\n",
        "print(color)\n",
        "print(\"this are the colors\",color)\n",
        "for y in color:\n",
        "   print(y)"
      ]
    },
    {
      "cell_type": "code",
      "source": [
        "#Modifying Elements in the array\n",
        "Hayop = [\"Ibon\",\"Sawa\",\"Dinosaur\"]\n",
        "Hayop [2] = \"Penguin\"\n",
        "print(Hayop)"
      ],
      "metadata": {
        "colab": {
          "base_uri": "https://localhost:8080/"
        },
        "id": "ssVsDK15TPgg",
        "outputId": "40a6cab9-db22-474c-8b01-0585bb2eda2f"
      },
      "execution_count": 9,
      "outputs": [
        {
          "output_type": "stream",
          "name": "stdout",
          "text": [
            "['Ibon', 'Sawa', 'Penguin']\n"
          ]
        }
      ]
    },
    {
      "cell_type": "code",
      "source": [
        "#Length of the array\n",
        "Color   = [\"Green\",\"Black\",\"White\"]\n",
        "x = len(Color)\n",
        "print (x)"
      ],
      "metadata": {
        "colab": {
          "base_uri": "https://localhost:8080/"
        },
        "id": "pD6xOY6uTrBc",
        "outputId": "c75ebbd5-fc6c-4c2c-ab19-fc316bcacb16"
      },
      "execution_count": 10,
      "outputs": [
        {
          "output_type": "stream",
          "name": "stdout",
          "text": [
            "3\n"
          ]
        }
      ]
    },
    {
      "cell_type": "code",
      "source": [
        "#Looping Array Elements\n",
        "Color   = [\"Green\",\"Black\",\"White\"]\n",
        "Hayop = [\"Ibon\",\"Sawa\",\"Dinosaur\"]\n",
        "for k in Color:\n",
        " for j in Hayop:\n",
        "   print(k,j)"
      ],
      "metadata": {
        "colab": {
          "base_uri": "https://localhost:8080/"
        },
        "id": "xycvE9SzT8Ve",
        "outputId": "8b5964e4-bc95-4c1f-92ba-49833a39a327"
      },
      "execution_count": 15,
      "outputs": [
        {
          "output_type": "stream",
          "name": "stdout",
          "text": [
            "Green Ibon\n",
            "Green Sawa\n",
            "Green Dinosaur\n",
            "Black Ibon\n",
            "Black Sawa\n",
            "Black Dinosaur\n",
            "White Ibon\n",
            "White Sawa\n",
            "White Dinosaur\n"
          ]
        }
      ]
    },
    {
      "cell_type": "code",
      "source": [
        "#Append the Element in the Array\n",
        "Color   = [\"Green\",\"Black\",\"White\"]\n",
        "Color.append(\"Pasali ako\")\n",
        "print(Color)\n"
      ],
      "metadata": {
        "colab": {
          "base_uri": "https://localhost:8080/"
        },
        "id": "2uWXDfxuVfY2",
        "outputId": "b2d896f9-aebb-4bdf-d33a-0330ff3bd081"
      },
      "execution_count": 16,
      "outputs": [
        {
          "output_type": "stream",
          "name": "stdout",
          "text": [
            "['Green', 'Black', 'White', 'Pasali ako']\n"
          ]
        }
      ]
    },
    {
      "cell_type": "code",
      "source": [
        "#Insert and Element in the Array\n",
        "Color   = [\"Green\",\"Black\",\"White\"]\n",
        "Color.insert(1,\"Pwede bang pasali\") \n",
        "print(Color)"
      ],
      "metadata": {
        "colab": {
          "base_uri": "https://localhost:8080/"
        },
        "id": "cJCvJX9KVyrx",
        "outputId": "f4db7b06-f3bd-4ddc-bb17-3805cc958eb8"
      },
      "execution_count": 17,
      "outputs": [
        {
          "output_type": "stream",
          "name": "stdout",
          "text": [
            "['Green', 'Pwede bang pasali', 'Black', 'White']\n"
          ]
        }
      ]
    },
    {
      "cell_type": "code",
      "source": [
        "#Remove an Element in the Array List\n",
        "Color   = [\"Green\",\"Black\",\"White\"]\n",
        "Color.pop(2)\n",
        "print(Color)"
      ],
      "metadata": {
        "colab": {
          "base_uri": "https://localhost:8080/"
        },
        "id": "e6RB5Ze0WMME",
        "outputId": "63e1085e-9c60-4cad-872f-d760c318051e"
      },
      "execution_count": 20,
      "outputs": [
        {
          "output_type": "stream",
          "name": "stdout",
          "text": [
            "['Green', 'Black']\n"
          ]
        }
      ]
    },
    {
      "cell_type": "code",
      "source": [
        "#Array module in pyhton\n",
        "from array import *\n",
        "numbers = array('i',[1,2,3,4,5])\n",
        "numbers.typecode"
      ],
      "metadata": {
        "colab": {
          "base_uri": "https://localhost:8080/",
          "height": 35
        },
        "id": "UWNFhP7NWjL_",
        "outputId": "6e8d433d-1dec-4c24-e3c0-fc2753cc9e1a"
      },
      "execution_count": 21,
      "outputs": [
        {
          "output_type": "execute_result",
          "data": {
            "text/plain": [
              "'i'"
            ],
            "application/vnd.google.colaboratory.intrinsic+json": {
              "type": "string"
            }
          },
          "metadata": {},
          "execution_count": 21
        }
      ]
    },
    {
      "cell_type": "code",
      "source": [
        "#Array module in python\n",
        "#Append\n",
        "from array import *\n",
        "numbers = array('i',[1,2,3,4,5])\n",
        "numbers.append(6)\n",
        "numbers"
      ],
      "metadata": {
        "colab": {
          "base_uri": "https://localhost:8080/"
        },
        "id": "hQyUATLaXlpQ",
        "outputId": "856d0994-4962-4680-d2c1-7fba6b7ba3a1"
      },
      "execution_count": 22,
      "outputs": [
        {
          "output_type": "execute_result",
          "data": {
            "text/plain": [
              "array('i', [1, 2, 3, 4, 5, 6])"
            ]
          },
          "metadata": {},
          "execution_count": 22
        }
      ]
    }
  ]
}