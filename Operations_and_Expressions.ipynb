{
  "nbformat": 4,
  "nbformat_minor": 0,
  "metadata": {
    "colab": {
      "provenance": [],
      "authorship_tag": "ABX9TyPAWKheBdnc/jiP9SQeJDA6"
    },
    "kernelspec": {
      "name": "python3",
      "display_name": "Python 3"
    },
    "language_info": {
      "name": "python"
    }
  },
  "cells": [
    {
      "cell_type": "code",
      "execution_count": 1,
      "metadata": {
        "colab": {
          "base_uri": "https://localhost:8080/"
        },
        "id": "lAOcqDUZ83HB",
        "outputId": "79a4f686-3f9a-4ef0-fefd-491fe5d9c707"
      },
      "outputs": [
        {
          "output_type": "stream",
          "name": "stdout",
          "text": [
            "True\n"
          ]
        }
      ],
      "source": [
        "print(bool(\"Hello\"))"
      ]
    },
    {
      "cell_type": "code",
      "source": [
        "def myFunction():\n",
        "  return True"
      ],
      "metadata": {
        "id": "H8xY0rj99AoQ"
      },
      "execution_count": 3,
      "outputs": []
    },
    {
      "cell_type": "code",
      "source": [
        "print(11>8)\n",
        "print(10==11)\n",
        "print(11<9)"
      ],
      "metadata": {
        "colab": {
          "base_uri": "https://localhost:8080/"
        },
        "id": "EskTsTpa9R_h",
        "outputId": "24fe7b32-4a5e-4037-8260-8246d047e7b4"
      },
      "execution_count": 10,
      "outputs": [
        {
          "output_type": "stream",
          "name": "stdout",
          "text": [
            "True\n",
            "False\n",
            "False\n"
          ]
        }
      ]
    },
    {
      "cell_type": "markdown",
      "source": [],
      "metadata": {
        "id": "jjjUlARQ9lg1"
      }
    },
    {
      "cell_type": "markdown",
      "source": [
        "Boolean Operators"
      ],
      "metadata": {
        "id": "KCZApCYk9pU-"
      }
    },
    {
      "cell_type": "code",
      "source": [
        "a = 9\n",
        "b = 10\n",
        "c = 20\n",
        "print(a>c)\n",
        "print(b==c)\n",
        "print(a<c)"
      ],
      "metadata": {
        "colab": {
          "base_uri": "https://localhost:8080/"
        },
        "id": "nogqkCB29tW_",
        "outputId": "dd8dd641-472a-4913-b26c-6242af7e11cf"
      },
      "execution_count": 14,
      "outputs": [
        {
          "output_type": "stream",
          "name": "stdout",
          "text": [
            "False\n",
            "False\n",
            "True\n"
          ]
        }
      ]
    },
    {
      "cell_type": "markdown",
      "source": [
        "Boolean () Function"
      ],
      "metadata": {
        "id": "NenVuz7R-ETU"
      }
    },
    {
      "cell_type": "code",
      "source": [
        "print(bool(0))\n",
        "print(bool(\"Hello Aking mundo\"))\n",
        "print(bool(111))\n",
        "print(bool([0]))"
      ],
      "metadata": {
        "colab": {
          "base_uri": "https://localhost:8080/"
        },
        "id": "YES6GyUB-H4t",
        "outputId": "e4742676-0e28-4565-e096-4b514a5eb357"
      },
      "execution_count": 21,
      "outputs": [
        {
          "output_type": "stream",
          "name": "stdout",
          "text": [
            "False\n",
            "True\n",
            "True\n",
            "True\n"
          ]
        }
      ]
    },
    {
      "cell_type": "code",
      "source": [],
      "metadata": {
        "id": "7-aMM5jJ_hb1"
      },
      "execution_count": null,
      "outputs": []
    },
    {
      "cell_type": "markdown",
      "source": [
        "Function that returns a boolean answer"
      ],
      "metadata": {
        "id": "0SQ-1zVe-mlD"
      }
    },
    {
      "cell_type": "code",
      "source": [
        "def My_Function():\n",
        "  return True\n",
        " \n",
        "  if My_Function():\n",
        "   print(\"True sya\")\n",
        "  else\n",
        "  print(\"Not true\")"
      ],
      "metadata": {
        "colab": {
          "base_uri": "https://localhost:8080/",
          "height": 132
        },
        "id": "_ddFaC1T-ps6",
        "outputId": "0c1a19e2-9d31-48d8-ab4e-33d18dc69459"
      },
      "execution_count": 31,
      "outputs": [
        {
          "output_type": "error",
          "ename": "SyntaxError",
          "evalue": "ignored",
          "traceback": [
            "\u001b[0;36m  File \u001b[0;32m\"<ipython-input-31-0667a4469df8>\"\u001b[0;36m, line \u001b[0;32m6\u001b[0m\n\u001b[0;31m    else\u001b[0m\n\u001b[0m        ^\u001b[0m\n\u001b[0;31mSyntaxError\u001b[0m\u001b[0;31m:\u001b[0m invalid syntax\n"
          ]
        }
      ]
    },
    {
      "cell_type": "markdown",
      "source": [
        "Try this now!"
      ],
      "metadata": {
        "id": "hEtilhUPAA_v"
      }
    },
    {
      "cell_type": "code",
      "source": [
        "c=6\n",
        "d=7\n",
        "print(c==d)\n",
        "print(c!=d)\n",
        "a= 10\n",
        "b=10\n",
        "print(a!=b)"
      ],
      "metadata": {
        "colab": {
          "base_uri": "https://localhost:8080/"
        },
        "id": "UxnPupep_iO3",
        "outputId": "44f39f25-1d0b-47d9-a5b9-eb7807b4afa1"
      },
      "execution_count": 33,
      "outputs": [
        {
          "output_type": "stream",
          "name": "stdout",
          "text": [
            "False\n",
            "True\n",
            "False\n"
          ]
        }
      ]
    },
    {
      "cell_type": "markdown",
      "source": [
        "Python Operators"
      ],
      "metadata": {
        "id": "uPO4OuOYAPgJ"
      }
    },
    {
      "cell_type": "code",
      "source": [
        "print(11+9)\n",
        "print(11-9)\n",
        "print(11*9)\n",
        "print(11/9)\n",
        "print(9**3)\n",
        "print(11//9)\n",
        "print(11%14)"
      ],
      "metadata": {
        "colab": {
          "base_uri": "https://localhost:8080/"
        },
        "id": "d8oLCe7NASSE",
        "outputId": "91d037e8-f5e0-4517-cd3f-891aaca6d33f"
      },
      "execution_count": 37,
      "outputs": [
        {
          "output_type": "stream",
          "name": "stdout",
          "text": [
            "20\n",
            "2\n",
            "99\n",
            "1.2222222222222223\n",
            "729\n",
            "1\n",
            "11\n"
          ]
        }
      ]
    },
    {
      "cell_type": "markdown",
      "source": [
        "Python bitwise operators (BY BITS)"
      ],
      "metadata": {
        "id": "V_trSa0FBU4-"
      }
    },
    {
      "cell_type": "code",
      "source": [
        "a= 60\n",
        "b = 13\n",
        "print (a & b)\n",
        "print (a ^ b)\n",
        "print (a | b)\n",
        "print (a<<2)\n",
        "print (~b)"
      ],
      "metadata": {
        "colab": {
          "base_uri": "https://localhost:8080/"
        },
        "id": "VckCJyZSBUcq",
        "outputId": "8e739b76-9cac-4937-9a15-70f418e4f995"
      },
      "execution_count": 49,
      "outputs": [
        {
          "output_type": "stream",
          "name": "stdout",
          "text": [
            "12\n",
            "49\n",
            "61\n",
            "240\n",
            "-14\n"
          ]
        }
      ]
    },
    {
      "cell_type": "markdown",
      "source": [
        "Pythin Assignment Operators"
      ],
      "metadata": {
        "id": "QRNUk7doFxMR"
      }
    },
    {
      "cell_type": "code",
      "source": [
        "j = 13\n",
        "j+=3\n",
        "print(j)\n",
        "print(\"j=\",j)"
      ],
      "metadata": {
        "colab": {
          "base_uri": "https://localhost:8080/"
        },
        "id": "HGHy18ISFzpI",
        "outputId": "bd744ef5-6766-4c18-d1b4-7db0c3b22979"
      },
      "execution_count": 54,
      "outputs": [
        {
          "output_type": "stream",
          "name": "stdout",
          "text": [
            "16\n",
            "j= 16\n"
          ]
        }
      ]
    },
    {
      "cell_type": "markdown",
      "source": [
        "Logical operators"
      ],
      "metadata": {
        "id": "hahfJsW9HFHV"
      }
    },
    {
      "cell_type": "code",
      "source": [
        "print(a<b and b==a)\n",
        "print(a!=b or b!=a)\n",
        "print(~(a!=b or b!=a))"
      ],
      "metadata": {
        "colab": {
          "base_uri": "https://localhost:8080/"
        },
        "id": "rmBG2MeIHEsn",
        "outputId": "a5a9c877-2e6d-4ccd-b982-d64671a590b9"
      },
      "execution_count": 57,
      "outputs": [
        {
          "output_type": "stream",
          "name": "stdout",
          "text": [
            "False\n",
            "True\n",
            "-2\n"
          ]
        }
      ]
    },
    {
      "cell_type": "markdown",
      "source": [
        "Identity Operators"
      ],
      "metadata": {
        "id": "tdzD8Ol3H6ck"
      }
    },
    {
      "cell_type": "code",
      "source": [
        "print(b is b)\n",
        "print(a is b)\n",
        "print(b is not a)"
      ],
      "metadata": {
        "colab": {
          "base_uri": "https://localhost:8080/"
        },
        "id": "mRESBWDqH8wC",
        "outputId": "15ce1411-c3b1-4d9b-a907-cb1ef5d97f24"
      },
      "execution_count": 62,
      "outputs": [
        {
          "output_type": "stream",
          "name": "stdout",
          "text": [
            "True\n",
            "False\n",
            "True\n"
          ]
        }
      ]
    }
  ]
}