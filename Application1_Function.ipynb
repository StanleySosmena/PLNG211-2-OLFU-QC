{
  "nbformat": 4,
  "nbformat_minor": 0,
  "metadata": {
    "colab": {
      "provenance": [],
      "include_colab_link": true
    },
    "kernelspec": {
      "name": "python3",
      "display_name": "Python 3"
    },
    "language_info": {
      "name": "python"
    }
  },
  "cells": [
    {
      "cell_type": "markdown",
      "metadata": {
        "id": "view-in-github",
        "colab_type": "text"
      },
      "source": [
        "<a href=\"https://colab.research.google.com/github/StanleySosmena/PLNG211-2-OLFU-QC/blob/main/Application1_Function.ipynb\" target=\"_parent\"><img src=\"https://colab.research.google.com/assets/colab-badge.svg\" alt=\"Open In Colab\"/></a>"
      ]
    },
    {
      "cell_type": "code",
      "execution_count": null,
      "metadata": {
        "id": "9dQDAS7xio4Z"
      },
      "outputs": [],
      "source": [
        "class Person:\n",
        "  pass"
      ]
    },
    {
      "cell_type": "code",
      "source": [
        "class Person:\n",
        "  def __init__(self,name,age,address):\n",
        "    self.name = name\n",
        "    self.age = age\n",
        "    self.address = address\n",
        "  def myFunction(self):\n",
        "    print(\"Hello! My name is\",self.name)\n",
        "    print(\"I am\",self.age)\n",
        "    print(\"I live in\",self.address)\n",
        "\n",
        "class Student(Person):\n",
        "  pass\n",
        "\n",
        "class Teacher(Person):\n",
        "  pass    \n",
        "    \n",
        "p1 = Person(\"Stanley\",19,\"Caloocan City\")\n",
        "p1.myFunction()\n",
        "\n",
        "p2 = Student(\"Stan\",19,\"Caloocan City\")\n",
        "p2.myFunction()\n",
        "\n",
        "p3 = Teacher(\"jer\",39,\"Caloocan City\")\n",
        "p3.myFunction()"
      ],
      "metadata": {
        "colab": {
          "base_uri": "https://localhost:8080/"
        },
        "id": "HTdkSVqUnS57",
        "outputId": "89f3ae18-e392-4100-8e5d-0b2b09e6bc30"
      },
      "execution_count": null,
      "outputs": [
        {
          "output_type": "stream",
          "name": "stdout",
          "text": [
            "Hello! My name is Endrae\n",
            "I am 20\n",
            "I live in Caloocan City\n",
            "Hello! My name is Mjay\n",
            "I am 19\n",
            "I live in Caloocan City\n",
            "Hello! My name is Ken\n",
            "I am 41\n",
            "I live in Quezon City\n"
          ]
        }
      ]
    },
    {
      "cell_type": "code",
      "source": [
        "#Modify an Object Property\n",
        "\n",
        "class Person:\n",
        "  def __init__(self,name,age,address):\n",
        "    self.name = name\n",
        "    self.age = age\n",
        "    self.address = address\n",
        "  def myFunction(self):\n",
        "    print(\"Hello! My name is\",self.name)\n",
        "    print(\"I am\",self.age)\n",
        "    print(\"I live in\",self.address)\n",
        "\n",
        "class Student(Person):\n",
        "  pass\n",
        "\n",
        "class Teacher(Person):\n",
        "  pass    \n",
        "    \n",
        "p1 = Person(\"Stanley\",19,\"Caloocan City\")\n",
        "p1.myFunction()\n",
        "\n",
        "p2 = Student(\"Stan\",19,\"Caloocan City\")\n",
        "p2.myFunction()\n",
        "\n",
        "p3 = Teacher(\"jer\",39,\"Caloocan City\")\n",
        "p3.myFunction()\n",
        "\n",
        "p3.age = 25\n",
        "p3.myFunction()"
      ],
      "metadata": {
        "colab": {
          "base_uri": "https://localhost:8080/"
        },
        "id": "I_ahh1euqGzX",
        "outputId": "0ba021c4-7690-406b-d5bd-eb4a69fae8fd"
      },
      "execution_count": 2,
      "outputs": [
        {
          "output_type": "stream",
          "name": "stdout",
          "text": [
            "Hello! My name is Stanley\n",
            "I am 19\n",
            "I live in Caloocan City\n",
            "Hello! My name is Stan\n",
            "I am 19\n",
            "I live in Caloocan City\n",
            "Hello! My name is jer\n",
            "I am 39\n",
            "I live in Caloocan City\n",
            "Hello! My name is jer\n",
            "I am 25\n",
            "I live in Caloocan City\n"
          ]
        }
      ]
    },
    {
      "cell_type": "code",
      "source": [
        "#Delete an Object Property\n",
        "print(p2)\n",
        "del p2\n",
        "p2.myFunction()"
      ],
      "metadata": {
        "colab": {
          "base_uri": "https://localhost:8080/",
          "height": 217
        },
        "id": "K_BYanGTrrIj",
        "outputId": "811aa60b-4afd-4825-cba7-cb54d30d518f"
      },
      "execution_count": 11,
      "outputs": [
        {
          "output_type": "stream",
          "name": "stdout",
          "text": [
            "<__main__.Student object at 0x7f0114004ee0>\n"
          ]
        },
        {
          "output_type": "error",
          "ename": "NameError",
          "evalue": "ignored",
          "traceback": [
            "\u001b[0;31m---------------------------------------------------------------------------\u001b[0m",
            "\u001b[0;31mNameError\u001b[0m                                 Traceback (most recent call last)",
            "\u001b[0;32m<ipython-input-11-0066b24fc3b7>\u001b[0m in \u001b[0;36m<module>\u001b[0;34m\u001b[0m\n\u001b[1;32m      2\u001b[0m \u001b[0mprint\u001b[0m\u001b[0;34m(\u001b[0m\u001b[0mp2\u001b[0m\u001b[0;34m)\u001b[0m\u001b[0;34m\u001b[0m\u001b[0;34m\u001b[0m\u001b[0m\n\u001b[1;32m      3\u001b[0m \u001b[0;32mdel\u001b[0m \u001b[0mp2\u001b[0m\u001b[0;34m\u001b[0m\u001b[0;34m\u001b[0m\u001b[0m\n\u001b[0;32m----> 4\u001b[0;31m \u001b[0mp2\u001b[0m\u001b[0;34m.\u001b[0m\u001b[0mmyFunction\u001b[0m\u001b[0;34m(\u001b[0m\u001b[0;34m)\u001b[0m\u001b[0;34m\u001b[0m\u001b[0;34m\u001b[0m\u001b[0m\n\u001b[0m",
            "\u001b[0;31mNameError\u001b[0m: name 'p2' is not defined"
          ]
        }
      ]
    },
    {
      "cell_type": "code",
      "source": [
        "#Application 1 - Write a Python program that computes the area and perimeter of a square\n",
        "#Use Square as class name\n",
        "#Use sides as attributes\n",
        "#Create methods Area() and Perimeter()\n",
        "class Square:\n",
        "  pass\n",
        "\n",
        "  def __init__(side,area,per):\n",
        "    side.area = pow(area,2)\n",
        "    side.per = per*4\n",
        "  def myFunction(side):\n",
        "    print(\"The Area of the Square:\",side.area)\n",
        "    print(\"The Perimeter of the Square:\",side.per)\n",
        "\n",
        "p1 = Square(6,9)\n",
        "p1.myFunction()"
      ],
      "metadata": {
        "colab": {
          "base_uri": "https://localhost:8080/"
        },
        "id": "_B5fqsHMs4B4",
        "outputId": "a08e3a7b-7d57-4e91-84ef-4d0b53d5e30f"
      },
      "execution_count": null,
      "outputs": [
        {
          "output_type": "stream",
          "name": "stdout",
          "text": [
            "The Area of the Square: 36\n",
            "The Perimeter of the Square: 36\n"
          ]
        }
      ]
    }
  ]
}