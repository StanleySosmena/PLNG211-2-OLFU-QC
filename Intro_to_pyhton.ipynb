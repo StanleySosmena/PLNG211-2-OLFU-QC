{
  "nbformat": 4,
  "nbformat_minor": 0,
  "metadata": {
    "colab": {
      "provenance": [],
      "name": "Intro to pyhton.ipynb",
      "collapsed_sections": [],
      "authorship_tag": "ABX9TyMvf94MUaAkMyGiZKvyN2Pe",
      "include_colab_link": true
    },
    "kernelspec": {
      "name": "python3",
      "display_name": "Python 3"
    },
    "language_info": {
      "name": "python"
    }
  },
  "cells": [
    {
      "cell_type": "markdown",
      "metadata": {
        "id": "view-in-github",
        "colab_type": "text"
      },
      "source": [
        "<a href=\"https://colab.research.google.com/github/StanleySosmena/PLNG211-2-OLFU-QC/blob/main/Intro_to_pyhton.ipynb\" target=\"_parent\"><img src=\"https://colab.research.google.com/assets/colab-badge.svg\" alt=\"Open In Colab\"/></a>"
      ]
    },
    {
      "cell_type": "code",
      "execution_count": null,
      "metadata": {
        "id": "fsnN3eybNLz5"
      },
      "outputs": [],
      "source": [
        "  "
      ]
    },
    {
      "cell_type": "markdown",
      "source": [
        "#this is a comment\n",
        "print(\"Hello, World\")"
      ],
      "metadata": {
        "id": "bWwBWw-SQcQ-"
      }
    },
    {
      "cell_type": "code",
      "source": [
        "print(\"Hello, world\")"
      ],
      "metadata": {
        "colab": {
          "base_uri": "https://localhost:8080/"
        },
        "id": "MT03at8F5UYy",
        "outputId": "069bea6c-3335-4347-eb4e-f0fd63d7fd36"
      },
      "execution_count": null,
      "outputs": [
        {
          "output_type": "stream",
          "name": "stdout",
          "text": [
            "Hello, world\n"
          ]
        }
      ]
    },
    {
      "cell_type": "markdown",
      "source": [
        "Python variable\n"
      ],
      "metadata": {
        "id": "I8qfSnUh5ckp"
      }
    },
    {
      "cell_type": "code",
      "source": [
        "#Single variable\n",
        "\n",
        "a = float (17)\n",
        "b = 10\n",
        "print(a)\n",
        "print(b)\n",
        "\n",
        "#multiple variables\n",
        "\n",
        "a,b = float(17),-1\n",
        "\n",
        "#string types\n",
        "\n",
        "K = \"Jomay\"\n",
        "print(K)\n",
        "K = str(\"Jomay\")\n",
        "print(K)\n",
        "print(K)\n",
        "print(K)\n",
        "print(K)\n"
      ],
      "metadata": {
        "colab": {
          "base_uri": "https://localhost:8080/"
        },
        "id": "5fV7RWFM5euJ",
        "outputId": "ac5808cc-84fd-4209-867a-ef4adc526181"
      },
      "execution_count": null,
      "outputs": [
        {
          "output_type": "stream",
          "name": "stdout",
          "text": [
            "17.0\n",
            "10\n",
            "Jomay\n",
            "Jomay\n",
            "Jomay\n",
            "Jomay\n",
            "Jomay\n"
          ]
        }
      ]
    },
    {
      "cell_type": "code",
      "source": [],
      "metadata": {
        "id": "SbSaDlKw-Ioh"
      },
      "execution_count": null,
      "outputs": []
    },
    {
      "cell_type": "code",
      "source": [
        "print(type(K))"
      ],
      "metadata": {
        "colab": {
          "base_uri": "https://localhost:8080/"
        },
        "id": "iQyy1Hed-1aZ",
        "outputId": "f676cdcb-e718-47d6-d2e8-7dc1281b05a5"
      },
      "execution_count": null,
      "outputs": [
        {
          "output_type": "stream",
          "name": "stdout",
          "text": [
            "<class 'str'>\n"
          ]
        }
      ]
    },
    {
      "cell_type": "code",
      "source": [
        "#Proper Indentation\n",
        "if 7<6:\n",
        " print(\"3 is less than 6 \")\n",
        "else:\n",
        "  print(\"Invalid\")"
      ],
      "metadata": {
        "colab": {
          "base_uri": "https://localhost:8080/"
        },
        "id": "UE_XXJcg_AVf",
        "outputId": "4304bc52-4695-4663-b150-91fc3a87b66b"
      },
      "execution_count": null,
      "outputs": [
        {
          "output_type": "stream",
          "name": "stdout",
          "text": [
            "Invalid\n"
          ]
        }
      ]
    },
    {
      "cell_type": "code",
      "source": [
        "#single and Double quote\n",
        "S = \"samantha\"\n",
        "s = 'SAMANTHA'\n",
        "print(S)\n",
        "print(s)"
      ],
      "metadata": {
        "colab": {
          "base_uri": "https://localhost:8080/"
        },
        "id": "aNs0IRsa_ul3",
        "outputId": "db6c5ae0-f5b6-4c6e-e332-769de16465d2"
      },
      "execution_count": null,
      "outputs": [
        {
          "output_type": "stream",
          "name": "stdout",
          "text": [
            "samantha\n",
            "SAMANTHA\n"
          ]
        }
      ]
    },
    {
      "cell_type": "code",
      "source": [
        "#Multiple Variables\n",
        "a,b,c = \"Do\",\"Re\",\"Mi\"\n",
        "print(a)\n",
        "print(b)\n",
        "print(c)"
      ],
      "metadata": {
        "colab": {
          "base_uri": "https://localhost:8080/"
        },
        "id": "ODbMxuZgACfN",
        "outputId": "c8f96bde-f4e6-4fa9-ae41-1d3eae026e2c"
      },
      "execution_count": null,
      "outputs": [
        {
          "output_type": "stream",
          "name": "stdout",
          "text": [
            "Do\n",
            "Re\n",
            "Mi\n"
          ]
        }
      ]
    },
    {
      "cell_type": "code",
      "source": [
        "#Single values to multiple Variables\n",
        "a=b=c=\"SARANGHAE\"\n",
        "print(a)\n",
        "print(b)\n",
        "print(c)"
      ],
      "metadata": {
        "colab": {
          "base_uri": "https://localhost:8080/"
        },
        "id": "75u-Pcr7ATzN",
        "outputId": "4b64ef53-07a6-4ddf-a769-1a5ff746c689"
      },
      "execution_count": null,
      "outputs": [
        {
          "output_type": "stream",
          "name": "stdout",
          "text": [
            "SARANGHAE\n",
            "SARANGHAE\n",
            "SARANGHAE\n"
          ]
        }
      ]
    },
    {
      "cell_type": "code",
      "source": [
        "#Output Variables\n",
        "a = \"HOT\"\n",
        "b = \"DOG\"\n",
        "print(a+b)\n",
        "print(a+\" \"+b)"
      ],
      "metadata": {
        "colab": {
          "base_uri": "https://localhost:8080/"
        },
        "id": "vGpB5jnaAEYv",
        "outputId": "657f2350-ed9b-4b82-de03-080b1ec5ad13"
      },
      "execution_count": null,
      "outputs": [
        {
          "output_type": "stream",
          "name": "stdout",
          "text": [
            "HOTDOG\n",
            "HOT DOG\n"
          ]
        }
      ]
    },
    {
      "cell_type": "code",
      "source": [
        "#Arithmetic Operations\n",
        "a = 4*6\n",
        "print(a)\n",
        "b = 4//6\n",
        "print(b)"
      ],
      "metadata": {
        "colab": {
          "base_uri": "https://localhost:8080/"
        },
        "id": "MnMHPeuQA_Vm",
        "outputId": "4cc436a5-91de-48c9-d9da-fdd8df7fbfda"
      },
      "execution_count": null,
      "outputs": [
        {
          "output_type": "stream",
          "name": "stdout",
          "text": [
            "24\n",
            "0\n"
          ]
        }
      ]
    },
    {
      "cell_type": "code",
      "source": [
        "#Comparison Operators\n",
        "a = 6<7\n",
        "b = 6>7\n",
        "c = 100<1\n",
        "print(a)\n",
        "print(b)\n",
        "print(c)\n",
        "(b and c )"
      ],
      "metadata": {
        "colab": {
          "base_uri": "https://localhost:8080/"
        },
        "id": "HpNHsDKhBSn7",
        "outputId": "a1f0a666-341b-46c1-88a8-045e53001a4f"
      },
      "execution_count": null,
      "outputs": [
        {
          "output_type": "stream",
          "name": "stdout",
          "text": [
            "True\n",
            "False\n",
            "False\n"
          ]
        },
        {
          "output_type": "execute_result",
          "data": {
            "text/plain": [
              "False"
            ]
          },
          "metadata": {},
          "execution_count": 34
        }
      ]
    },
    {
      "cell_type": "code",
      "source": [
        "#Identity Operators\n",
        "b is c"
      ],
      "metadata": {
        "colab": {
          "base_uri": "https://localhost:8080/"
        },
        "id": "fvIlF_ZjB4kj",
        "outputId": "e67c3ac7-0e9a-4a11-e6a4-09806ca591ba"
      },
      "execution_count": null,
      "outputs": [
        {
          "output_type": "execute_result",
          "data": {
            "text/plain": [
              "True"
            ]
          },
          "metadata": {},
          "execution_count": 39
        }
      ]
    },
    {
      "cell_type": "code",
      "source": [
        "#Bitwise Operators\n",
        "A = 23\n",
        "A<<20"
      ],
      "metadata": {
        "colab": {
          "base_uri": "https://localhost:8080/"
        },
        "id": "sHP5sxF1CEED",
        "outputId": "d9f2e713-8e9c-41e6-da3a-33d03a973c76"
      },
      "execution_count": null,
      "outputs": [
        {
          "output_type": "execute_result",
          "data": {
            "text/plain": [
              "24117248"
            ]
          },
          "metadata": {},
          "execution_count": 40
        }
      ]
    },
    {
      "cell_type": "code",
      "source": [],
      "metadata": {
        "id": "-ySBtXJEB8Lq"
      },
      "execution_count": null,
      "outputs": []
    }
  ]
}