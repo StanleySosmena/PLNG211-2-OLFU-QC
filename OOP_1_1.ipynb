{
  "nbformat": 4,
  "nbformat_minor": 0,
  "metadata": {
    "colab": {
      "provenance": [],
      "include_colab_link": true
    },
    "kernelspec": {
      "name": "python3",
      "display_name": "Python 3"
    },
    "language_info": {
      "name": "python"
    }
  },
  "cells": [
    {
      "cell_type": "markdown",
      "metadata": {
        "id": "view-in-github",
        "colab_type": "text"
      },
      "source": [
        "<a href=\"https://colab.research.google.com/github/StanleySosmena/PLNG211-2-OLFU-QC/blob/main/OOP_1_1.ipynb\" target=\"_parent\"><img src=\"https://colab.research.google.com/assets/colab-badge.svg\" alt=\"Open In Colab\"/></a>"
      ]
    },
    {
      "cell_type": "code",
      "execution_count": 6,
      "metadata": {
        "id": "VN_LKY95GHSJ",
        "colab": {
          "base_uri": "https://localhost:8080/"
        },
        "outputId": "d4efd699-466c-4797-e4b1-a497ec8b138b"
      },
      "outputs": [
        {
          "output_type": "stream",
          "name": "stdout",
          "text": [
            "Stanley V. Sosmena\n",
            "90717523\n",
            "19\n",
            "Our Lady Fatima University\n",
            "Bachelor in Science Computer Science\n"
          ]
        }
      ],
      "source": [
        "\n",
        "#1. Write a Python to display your full name, student number, age, and course\n",
        "Name = \"Stanley V. Sosmena\"\n",
        "Student_No = 90717523\n",
        "Age = 19\n",
        "School = \"Our Lady Fatima University\"\n",
        "Course = \"Bachelor in Science Computer Science\"\n",
        "print(Name)\n",
        "print(Student_No)\n",
        "print(Age )\n",
        "print(School)\n",
        "print(Course)"
      ]
    },
    {
      "cell_type": "code",
      "source": [
        "#2. Create a class named Student with attributes: Name, Student_No, Age, School, and Course\n",
        "class Student:\n",
        "  def __init__(self,Name, Student_No, Age,School,Course):\n",
        "    self.Name = Name\n",
        "    self.Student_No = Student_No\n",
        "    self.Age = Age\n",
        "    self.School = School\n",
        "    self.Course = Course"
      ],
      "metadata": {
        "id": "tWiNU7rtGRPT"
      },
      "execution_count": 7,
      "outputs": []
    },
    {
      "cell_type": "code",
      "source": [
        "#3. Create an object name Myself and assign an instance for each attribute\n",
        "Myself = Student(Name,Student_No,Age,School,Course)\n",
        "print(Myself)"
      ],
      "metadata": {
        "id": "KzrY0fKwGYch",
        "colab": {
          "base_uri": "https://localhost:8080/"
        },
        "outputId": "203f4920-ffcf-422c-b98e-2242e898ee7e"
      },
      "execution_count": 11,
      "outputs": [
        {
          "output_type": "stream",
          "name": "stdout",
          "text": [
            "<__main__.Student object at 0x7fbdf75b3fa0>\n"
          ]
        }
      ]
    },
    {
      "cell_type": "code",
      "source": [
        "#4. Create a method Info() using an instantiation of a class\n",
        "def info(self):\n",
        "    print(\"\"+self.Name)\n",
        "    print(self.Student_No)\n",
        "    print(self.Age)\n",
        "    print(\"\"+self.School)\n",
        "    print(\"\"+self.Course)"
      ],
      "metadata": {
        "id": "KcdjJw_JGWHE"
      },
      "execution_count": 8,
      "outputs": []
    }
  ]
}